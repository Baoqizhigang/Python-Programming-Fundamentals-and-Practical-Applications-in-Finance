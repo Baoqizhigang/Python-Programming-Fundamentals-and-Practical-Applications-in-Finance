# creditcard_df_scaled: This is both the input and the target for training because an autoencoder's goal is to reconstruct the input data.
# batch_size=128: This specifies that the data will be split into mini-batches of 128 samples. 
# Mini-batch gradient descent will update the model's weights after processing each batch.
# epochs=25: This specifies the number of complete passes through the training dataset. The model will train for 25 iterations over the entire dataset.
# verbose=1: This provides detailed output during training, showing the loss after each epoch.
autoencoder.fit(creditcard_df_scaled, creditcard_df_scaled, batch_size = 128, epochs = 25,  verbose = 1)
